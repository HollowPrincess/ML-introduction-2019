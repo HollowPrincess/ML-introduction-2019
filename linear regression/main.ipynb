{
 "cells": [
  {
   "cell_type": "code",
   "execution_count": null,
   "metadata": {},
   "outputs": [],
   "source": [
    "import pandas as pd\n",
    "import numpy as np"
   ]
  },
  {
   "cell_type": "code",
   "execution_count": null,
   "metadata": {},
   "outputs": [],
   "source": [
    "from matplotlib import pyplot as plt"
   ]
  },
  {
   "cell_type": "markdown",
   "metadata": {},
   "source": [
    "# dataframe preparation"
   ]
  },
  {
   "cell_type": "code",
   "execution_count": null,
   "metadata": {},
   "outputs": [],
   "source": [
    "data=pd.read_csv('data/Dataset/Dataset/Training/Features_Variant_1.csv', header=None).drop_duplicates()"
   ]
  },
  {
   "cell_type": "code",
   "execution_count": null,
   "metadata": {},
   "outputs": [],
   "source": [
    "print(data.iloc[:,37].unique()) #post promotion has only zero values we can drop this col because it isn't informative"
   ]
  },
  {
   "cell_type": "code",
   "execution_count": null,
   "metadata": {},
   "outputs": [],
   "source": [
    "#get and fit features names\n",
    "features_names=np.array(['page_likes_num',#1\n",
    "               'page_checkins',#2\n",
    "               'page_talking_about',#3\n",
    "                'page_cat',#4\n",
    "                'page_statistics',#5-29 #mean, avg etc.\n",
    "                'comments_num_before_base_time',#30\n",
    "                'comments_num_in_last_24_hours',#31 #last day\n",
    "                'comments_num_in_last_48_to_24_hours',#32 #day before last\n",
    "                'comments_num_in_first_24_hours',#33\n",
    "                'comments_difference_in_last_two_days', #34 (32-31)\n",
    "                'base_time', #35\n",
    "                'character_num_in_post', #36\n",
    "                'share_num',#37\n",
    "                'post_promotion', #38 binary\n",
    "                'h_local', #39 This describes the H hrs, for which we have the target variable/ comments received. \n",
    "                'post_published_weekday', #40-46 This represents the day(Sunday...Saturday) on which the post was published. \n",
    "                'base_ditetime_weekday', #47-53 This represents the day(Sunday...Saturday) on selected base Date/Time. \n",
    "                'target' #54 The no of comments in next H hrs(H is given in Feature no 39).                \n",
    "               ])\n",
    "\n",
    "for index in range(5,29):\n",
    "    features_names=np.insert(features_names, index, features_names[4]+'_'+str(index-4))\n",
    "    \n",
    "weekday=('sunday', 'monday','tuesday', 'wednesday', 'thursday', 'friday', 'saturday')    \n",
    "\n",
    "for index in range(40,47):\n",
    "    features_names=np.insert(features_names,index, features_names[39]+'_'+ weekday[index-40])\n",
    "features_names=np.delete(features_names, 39)\n",
    "\n",
    "for index in range(47,54):\n",
    "    features_names=np.insert(features_names,index, features_names[46]+'_'+ weekday[index-47])\n",
    "features_names=np.delete(features_names, 46)\n",
    "\n",
    "data.columns=features_names"
   ]
  },
  {
   "cell_type": "code",
   "execution_count": null,
   "metadata": {},
   "outputs": [],
   "source": [
    "y=data.nunique(axis=0).sort_values()\n",
    "print(y.head())"
   ]
  },
  {
   "cell_type": "code",
   "execution_count": null,
   "metadata": {},
   "outputs": [],
   "source": [
    "data=data.drop(columns=['post_promotion'])"
   ]
  },
  {
   "cell_type": "markdown",
   "metadata": {},
   "source": [
    "# data preparation"
   ]
  },
  {
   "cell_type": "code",
   "execution_count": null,
   "metadata": {},
   "outputs": [],
   "source": [
    "#'page_cat' to dummy because it is a category\n",
    "data=pd.concat([data,pd.get_dummies(data['page_cat'], prefix='page_cat')], axis=1)\n",
    "data=data.drop(columns=['page_cat'])"
   ]
  },
  {
   "cell_type": "code",
   "execution_count": null,
   "metadata": {},
   "outputs": [],
   "source": [
    "def normalize(df):\n",
    "    std=np.std(df, ddof=1).replace(0, 1)\n",
    "    return (df-np.mean(df))/std"
   ]
  },
  {
   "cell_type": "markdown",
   "metadata": {},
   "source": [
    "# learning"
   ]
  },
  {
   "cell_type": "code",
   "execution_count": null,
   "metadata": {},
   "outputs": [],
   "source": [
    "def custom_RMSE(target, pred, gamma, w):\n",
    "    return np.sqrt(\n",
    "        np.sum((target-pred)**2)/len(pred)+gamma*np.linalg.norm(w)\n",
    "    )\n",
    "\n",
    "def get_para_w(old_w, df, pred, lam, gamma, terms_num, iter_num):#, start_ind):\n",
    "    indices= np.random.choice(df.shape[1]-1, terms_num, replace=False)\n",
    "    #indices=np.array(range(start_ind, start_ind+terms_num))%df.shape[0]\n",
    "    #start_ind=start_ind+terms_num\n",
    "    old_w=old_w+2*lam*(\n",
    "          (np.dot((df.loc[indices,'target']-pred[indices]).values,df.iloc[indices,:-1].values))/(len(pred))#*iter_num)\n",
    "        )\n",
    "    return old_w, indices#, start_ind\n",
    "\n",
    "def get_para_w0(old_w0, df, pred, lam, gamma, indices, iter_num):\n",
    "    return old_w0+2*lam*(\n",
    "        (np.sum(df.loc[indices,'target']-pred[indices]))/(len(pred))#*iter_num)\n",
    "        )\n",
    "def get_prediction(w,w0,x_df):\n",
    "    return np.dot(x_df, w)+w0\n",
    "\n",
    "def RMSE_plot(RMSE_arr):\n",
    "    plt.figure(figsize=(15,7))   \n",
    "    plt.plot(RMSE_arr)\n",
    "    plt.xlabel('iteration number')\n",
    "    plt.ylabel('RMSE value')\n",
    "    plt.title('algo scores')\n",
    "    plt.show()\n",
    "    \n",
    "def gradient_descend(df, lam, gamma, terms_num, max_iter):\n",
    "    df=df.reset_index(drop=True)\n",
    "    w=np.array([0]*(df.shape[1]-1), dtype=float) #one column is the target\n",
    "    w0=0.0\n",
    "    prediction=get_prediction(w,w0,df.iloc[:,:-1])\n",
    "    minRMSE=custom_RMSE(df['target'], prediction, gamma, w)\n",
    "    #RMSE_arr=np.array([minRMSE], dtype=float)\n",
    "    params=np.append(w,w0)\n",
    "    best_params=params\n",
    "    best_pred=prediction\n",
    "\n",
    "    curr_err=10\n",
    "    err=10e-5\n",
    "    \n",
    "    iter_num=0\n",
    "    start_ind=0\n",
    "    while (curr_err>err) & (iter_num<max_iter) :    \n",
    "        iter_num+=1\n",
    "        w, indices=get_para_w(w, df, prediction, lam, gamma, terms_num, iter_num)\n",
    "        w0=get_para_w0(w0, df, prediction, lam, gamma, indices, iter_num)\n",
    "        \n",
    "        #first variant of stopping criterion:\n",
    "        curr_err=prediction.copy()\n",
    "        prediction=get_prediction(w,w0,df.iloc[:,:-1])\n",
    "        curr_err=np.linalg.norm(curr_err-prediction)#||y(k+1)-y(k)||\n",
    "        \n",
    "        \"\"\"\n",
    "        #another stopping criterion:\n",
    "        curr_err=params.copy() #old params        \n",
    "        params=np.append(w,w0)\n",
    "        curr_err=np.linalg.norm(curr_err-params)#||w(k+1)-w(k)||\n",
    "        \"\"\"\n",
    "        params=np.append(w,w0)\n",
    "        #RMSE_arr=np.append(RMSE_arr,custom_RMSE(df['target'], prediction, gamma, w))\n",
    "        if custom_RMSE(df['target'], prediction, gamma, w)<minRMSE:\n",
    "            minRMSE=custom_RMSE(df['target'], prediction, gamma, w)\n",
    "            best_params=params.copy()\n",
    "            best_pred=prediction\n",
    "            \n",
    "    print('Iterations number is:' +str(iter_num))\n",
    "    if iter_num==max_iter:\n",
    "        print('The maximum number of iterations was reached.')\n",
    "    print('RMSE is:'+str(minRMSE))\n",
    "    print('R2 is:'+str(custom_R2(df.iloc[:,-1], best_pred)))\n",
    "    \n",
    "    #RMSE_plot(RMSE_arr)        \n",
    "    return best_params"
   ]
  },
  {
   "cell_type": "code",
   "execution_count": null,
   "metadata": {},
   "outputs": [],
   "source": [
    "#set algo params:\n",
    "lam=1e-2\n",
    "gamma=1e-2\n",
    "terms_num=10\n",
    "max_iter=1e4"
   ]
  },
  {
   "cell_type": "markdown",
   "metadata": {},
   "source": [
    "# Cross-val"
   ]
  },
  {
   "cell_type": "code",
   "execution_count": null,
   "metadata": {},
   "outputs": [],
   "source": [
    "def custom_R2(target, pred):\n",
    "    return 1-(np.sum((target-pred)**2))/(np.sum((target-np.mean(target))**2))"
   ]
  },
  {
   "cell_type": "code",
   "execution_count": null,
   "metadata": {},
   "outputs": [],
   "source": [
    "res=pd.DataFrame()\n",
    "\n",
    "parts=range(1,6)\n",
    "idxs=[round(data.shape[0]/5)*(i-1) for i in range(1,6)]\n",
    "idxs.append(data.shape[0])\n",
    "\n",
    "for part in parts:\n",
    "    #separate dataset\n",
    "    test_part=data[idxs[part-1]:idxs[part]]\n",
    "    train_part=data.drop(data.index[idxs[part-1]:idxs[part]])\n",
    "    #features normalization (xi-mean)/std_err:\n",
    "    train_part.iloc[:,:-1]=normalize(train_part.iloc[:,:-1])\n",
    "    params=gradient_descend(train_part, lam, gamma, terms_num, max_iter) #model    \n",
    "    test_pred=get_prediction(params[:-1],params[-1],test_part.iloc[:,:-1])\n",
    "    RMSE=custom_RMSE(test_part['target'], test_pred, gamma, params[:-1])\n",
    "    r2=custom_R2(test_part['target'], test_pred)\n",
    "    params=np.insert(params, 0 , [RMSE,r2])\n",
    "    res[part]=params"
   ]
  },
  {
   "cell_type": "code",
   "execution_count": null,
   "metadata": {},
   "outputs": [],
   "source": [
    "idxs=np.array(['w'+str(i) for i in range(1,res.shape[0]-2)])\n",
    "idxs=np.append(idxs,'w0')\n",
    "idxs=np.insert(idxs, 0, ['RMSE', 'r2'])\n",
    "res.index=idxs\n",
    "\n",
    "res['mean']=np.mean(res, axis=1)\n",
    "res['std']=np.std(res.iloc[:,:-1], ddof=1, axis=1)"
   ]
  },
  {
   "cell_type": "code",
   "execution_count": null,
   "metadata": {},
   "outputs": [],
   "source": [
    "res"
   ]
  },
  {
   "cell_type": "code",
   "execution_count": null,
   "metadata": {},
   "outputs": [],
   "source": [
    "#this part is for comparison\n",
    "from sklearn.linear_model import LinearRegression\n",
    "from sklearn.model_selection import cross_val_score\n",
    "model=LinearRegression()\n",
    "scores = cross_val_score(model, data.iloc[:,:-1], data.iloc[:,-1], cv=5, scoring='r2')\n",
    "print('R2 scores for each fold is:')\n",
    "print(scores)"
   ]
  },
  {
   "cell_type": "code",
   "execution_count": null,
   "metadata": {},
   "outputs": [],
   "source": []
  }
 ],
 "metadata": {
  "kernelspec": {
   "display_name": "Python 3",
   "language": "python",
   "name": "python3"
  },
  "language_info": {
   "codemirror_mode": {
    "name": "ipython",
    "version": 3
   },
   "file_extension": ".py",
   "mimetype": "text/x-python",
   "name": "python",
   "nbconvert_exporter": "python",
   "pygments_lexer": "ipython3",
   "version": "3.7.3"
  }
 },
 "nbformat": 4,
 "nbformat_minor": 2
}
