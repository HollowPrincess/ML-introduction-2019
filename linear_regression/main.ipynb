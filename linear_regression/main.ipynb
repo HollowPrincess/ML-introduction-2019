{
 "cells": [
  {
   "cell_type": "code",
   "execution_count": null,
   "metadata": {},
   "outputs": [],
   "source": [
    "import pandas as pd\n",
    "import numpy as np\n",
    "from sklearn.utils import shuffle\n",
    "\n",
    "from code_source.dataframe_prep import get_cols_names\n",
    "from code_source import data_prep\n",
    "from code_source import metrics\n",
    "from code_source import learning"
   ]
  },
  {
   "cell_type": "markdown",
   "metadata": {},
   "source": [
    "# dataframe preparation"
   ]
  },
  {
   "cell_type": "code",
   "execution_count": null,
   "metadata": {},
   "outputs": [],
   "source": [
    "data=pd.read_csv('data/Dataset/Dataset/Training/Features_Variant_1.csv', header=None).drop_duplicates()\n",
    "data=get_cols_names(data)\n",
    "data=data.drop(columns=['post_promotion']) #post promotion has only zero values we can drop this col because it isn't informative"
   ]
  },
  {
   "cell_type": "markdown",
   "metadata": {},
   "source": [
    "# data preparation"
   ]
  },
  {
   "cell_type": "code",
   "execution_count": null,
   "metadata": {},
   "outputs": [],
   "source": [
    "#'page_cat' to dummy because it is a category\n",
    "#data=pd.concat([data,pd.get_dummies(data['page_cat'], prefix='page_cat')], axis=1)\n",
    "#data=data.drop(columns=['page_cat'])"
   ]
  },
  {
   "cell_type": "code",
   "execution_count": null,
   "metadata": {},
   "outputs": [],
   "source": [
    "#data shuffling\n",
    "data=shuffle(data).reset_index(drop=True)"
   ]
  },
  {
   "cell_type": "markdown",
   "metadata": {},
   "source": [
    "# learning"
   ]
  },
  {
   "cell_type": "code",
   "execution_count": null,
   "metadata": {},
   "outputs": [],
   "source": [
    "#set algo params:\n",
    "lam=1e-4\n",
    "gamma=0 #now we needn't it\n",
    "terms_num=100\n",
    "max_iter=50"
   ]
  },
  {
   "cell_type": "markdown",
   "metadata": {},
   "source": [
    "# Cross-val"
   ]
  },
  {
   "cell_type": "code",
   "execution_count": null,
   "metadata": {},
   "outputs": [],
   "source": [
    "data.iloc[:,:-1], mean, std =data_prep.normalize(data.iloc[:,:-1])\n",
    "\n",
    "res=pd.DataFrame()\n",
    "\n",
    "parts=range(1,6)\n",
    "idxs=[round(data.shape[0]/5)*(i-1) for i in range(1,6)]\n",
    "idxs.append(data.shape[0])\n",
    "\n",
    "for part in parts:\n",
    "    #separate dataset\n",
    "    test_part=data[idxs[part-1]:idxs[part]]\n",
    "    train_part=data.drop(data.index[idxs[part-1]:idxs[part]])\n",
    "\n",
    "    #features normalization (xi-mean)/std_err:\n",
    "    #train_part.iloc[:,:-1], mean, std=normalize(train_part.iloc[:,:-1])#fit and transform train\n",
    "    #test_part.iloc[:,:-1]=normalize_with_params(test_part.iloc[:,:-1], mean, std) #transform test\n",
    "    \n",
    "    params=learning.gradient_descend(train_part, lam, gamma, terms_num, max_iter) #model    \n",
    "    test_pred=learning.get_prediction(params[:-1],params[-1],test_part.iloc[:,:-1])\n",
    "    RMSE=metrics.custom_RMSE(test_part['target'], test_pred, gamma, params[:-1])\n",
    "    r2=metrics.custom_R2(test_part['target'], test_pred)\n",
    "    params=np.insert(params, 0 , [RMSE,r2])\n",
    "    res[part]=params"
   ]
  },
  {
   "cell_type": "code",
   "execution_count": null,
   "metadata": {},
   "outputs": [],
   "source": [
    "text_idxs=np.array(['w'+str(i) for i in range(1,res.shape[0]-2)])\n",
    "text_idxs=np.append(text_idxs,'w0')\n",
    "text_idxs=np.insert(text_idxs, 0, ['RMSE', 'r2'])\n",
    "res.index=text_idxs\n",
    "\n",
    "res['mean']=np.mean(res, axis=1)\n",
    "res['std']=np.std(res.iloc[:,:-1], axis=1)"
   ]
  },
  {
   "cell_type": "code",
   "execution_count": null,
   "metadata": {},
   "outputs": [],
   "source": [
    "res"
   ]
  },
  {
   "cell_type": "code",
   "execution_count": null,
   "metadata": {},
   "outputs": [],
   "source": []
  }
 ],
 "metadata": {
  "kernelspec": {
   "display_name": "Python 3",
   "language": "python",
   "name": "python3"
  },
  "language_info": {
   "codemirror_mode": {
    "name": "ipython",
    "version": 3
   },
   "file_extension": ".py",
   "mimetype": "text/x-python",
   "name": "python",
   "nbconvert_exporter": "python",
   "pygments_lexer": "ipython3",
   "version": "3.7.3"
  }
 },
 "nbformat": 4,
 "nbformat_minor": 2
}
