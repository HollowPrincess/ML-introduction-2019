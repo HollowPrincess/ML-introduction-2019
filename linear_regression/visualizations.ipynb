{
 "cells": [
  {
   "cell_type": "code",
   "execution_count": null,
   "metadata": {
    "collapsed": true
   },
   "outputs": [],
   "source": [
    "#how to get table of contents:\n",
    "#!jupyter nbextension install --user https://rawgithub.com/minrk/ipython_extensions/master/nbextensions/toc.js\n",
    "#!curl -L https://rawgithub.com/minrk/ipython_extensions/master/nbextensions/toc.css > $(jupyter --data-dir)/nbextensions/toc.css\n",
    "#!jupyter nbextension enable toc"
   ]
  },
  {
   "cell_type": "code",
   "execution_count": 1,
   "metadata": {
    "collapsed": true
   },
   "outputs": [],
   "source": [
    "import pandas as pd\n",
    "import numpy as np\n",
    "from matplotlib import pyplot as plt\n",
    "\n",
    "%matplotlib inline"
   ]
  },
  {
   "cell_type": "code",
   "execution_count": 2,
   "metadata": {
    "collapsed": true
   },
   "outputs": [],
   "source": [
    "def about_outliers(series):\n",
    "    print('Num of rows:')\n",
    "    print(series.shape[0])\n",
    "    desr=series.describe()\n",
    "    upper_bound=desr['75%']+1.5*(desr['75%']-desr['25%'])\n",
    "    lower_bound=desr['25%']-1.5*(desr['75%']-desr['25%'])\n",
    "    print('Num of normal rows:')\n",
    "    print(len(series.loc[(series<upper_bound)&(series>lower_bound)]))\n",
    "    print('Num of outliers:')\n",
    "    print(len(series.loc[(series>upper_bound)|(series<lower_bound)]))"
   ]
  },
  {
   "cell_type": "code",
   "execution_count": 3,
   "metadata": {
    "collapsed": true
   },
   "outputs": [],
   "source": [
    "data=pd.read_csv('data/Dataset/Dataset/Training/Features_Variant_1.csv', header=None).drop_duplicates()"
   ]
  },
  {
   "cell_type": "code",
   "execution_count": 4,
   "metadata": {
    "collapsed": true
   },
   "outputs": [],
   "source": [
    "#get and fit features names\n",
    "features_names=np.array(['page_likes_num',#1\n",
    "               'page_checkins',#2\n",
    "               'page_talking_about',#3\n",
    "                'page_cat',#4\n",
    "                'page_statistics',#5-29 #mean, avg etc.\n",
    "                'comments_num_before_base_time',#30\n",
    "                'comments_num_in_last_24_hours',#31 #last day\n",
    "                'comments_num_in_last_48_to_24_hours',#32 #day before last\n",
    "                'comments_num_in_first_24_hours',#33\n",
    "                'comments_difference_in_last_two_days', #34 (32-31)\n",
    "                         \n",
    "                'base_time', #35\n",
    "                'character_num_in_post', #36\n",
    "                'share_num',#37\n",
    "                'post_promotion', #38 binary\n",
    "                'h_local', #39 This describes the H hrs, for which we have the target variable/ comments received. \n",
    "                'post_published_weekday', #40-46 This represents the day(Sunday...Saturday) on which the post was published. \n",
    "                'base_datetime_weekday', #47-53 This represents the day(Sunday...Saturday) on selected base Date/Time. \n",
    "                'target' #54 The no of comments in next H hrs(H is given in Feature no 39).                \n",
    "               ])\n",
    "\n",
    "for index in range(5,29):\n",
    "    features_names=np.insert(features_names, index, features_names[4]+'_'+str(index-4))\n",
    "    \n",
    "weekday=('sunday', 'monday','tuesday', 'wednesday', 'thursday', 'friday', 'saturday')    \n",
    "\n",
    "for index in range(40,47):\n",
    "    features_names=np.insert(features_names,index, features_names[39]+'_'+ weekday[index-40])\n",
    "features_names=np.delete(features_names, 39)\n",
    "\n",
    "for index in range(47,54):\n",
    "    features_names=np.insert(features_names,index, features_names[46]+'_'+ weekday[index-47])\n",
    "features_names=np.delete(features_names, 46)\n",
    "\n",
    "data.columns=features_names"
   ]
  },
  {
   "cell_type": "code",
   "execution_count": 5,
   "metadata": {
    "collapsed": true
   },
   "outputs": [],
   "source": [
    "data=data.drop(columns=['post_promotion'])"
   ]
  },
  {
   "cell_type": "markdown",
   "metadata": {},
   "source": [
    "# vis"
   ]
  },
  {
   "cell_type": "markdown",
   "metadata": {},
   "source": [
    "## numeric values"
   ]
  },
  {
   "cell_type": "markdown",
   "metadata": {},
   "source": [
    "### page_likes_num"
   ]
  },
  {
   "cell_type": "code",
   "execution_count": null,
   "metadata": {
    "collapsed": true
   },
   "outputs": [],
   "source": [
    "#data['page_likes_num'] #float\n",
    "boxplot = data.boxplot(column=['page_likes_num'], showfliers=False)"
   ]
  },
  {
   "cell_type": "code",
   "execution_count": null,
   "metadata": {
    "collapsed": true
   },
   "outputs": [],
   "source": [
    "#try make log\n",
    "tmp=np.log(data['page_likes_num'])\n",
    "plt.boxplot(tmp, showfliers=False)\n",
    "plt.show()"
   ]
  },
  {
   "cell_type": "code",
   "execution_count": null,
   "metadata": {
    "collapsed": true
   },
   "outputs": [],
   "source": [
    "\"\"\"\n",
    "tmp=np.log(data['page_likes_num'])\n",
    "plt.boxplot(tmp)\n",
    "plt.show()\n",
    "\"\"\""
   ]
  },
  {
   "cell_type": "code",
   "execution_count": null,
   "metadata": {
    "collapsed": true
   },
   "outputs": [],
   "source": [
    "about_outliers(data['page_likes_num'])"
   ]
  },
  {
   "cell_type": "code",
   "execution_count": null,
   "metadata": {
    "collapsed": true
   },
   "outputs": [],
   "source": [
    "ser_tmp=pd.Series(tmp, name='tmp')\n",
    "about_outliers(ser_tmp)"
   ]
  },
  {
   "cell_type": "code",
   "execution_count": null,
   "metadata": {
    "collapsed": true
   },
   "outputs": [],
   "source": [
    "print('Num of rows:')\n",
    "print(len(tmp))\n",
    "desr=tmp.describe()\n",
    "upper_bound=desr['75%']+3*(desr['75%']-desr['25%'])\n",
    "lower_bound=desr['25%']-3*(desr['75%']-desr['25%'])\n",
    "print('Num of normal rows:')\n",
    "print(len(ser_tmp.loc[(ser_tmp<upper_bound)&(ser_tmp>lower_bound)]))\n",
    "print('Num of outliers:')\n",
    "print(len(ser_tmp.loc[(ser_tmp>upper_bound)|(ser_tmp<lower_bound)]))"
   ]
  },
  {
   "cell_type": "code",
   "execution_count": null,
   "metadata": {
    "collapsed": true
   },
   "outputs": [],
   "source": [
    "\n",
    "plt.figure(figsize=(15,7))\n",
    "plt.scatter(x=data['page_likes_num'], y=data['target'])\n",
    "plt.xlim(0,0.4e8)\n",
    "plt.xlabel('page_likes_num')\n",
    "plt.ylabel('target')\n",
    "plt.title('scatter page_likes_num')\n",
    "plt.show()\n"
   ]
  },
  {
   "cell_type": "code",
   "execution_count": null,
   "metadata": {
    "collapsed": true
   },
   "outputs": [],
   "source": [
    "\n",
    "plt.figure(figsize=(15,7))\n",
    "plt.scatter(x=tmp, y=data['target'])\n",
    "plt.xlim(0,20)\n",
    "plt.xlabel('page_likes_num')\n",
    "plt.ylabel('target')\n",
    "plt.title('scatter log(page_likes_num)')\n",
    "plt.show();\n"
   ]
  },
  {
   "cell_type": "code",
   "execution_count": null,
   "metadata": {
    "collapsed": true
   },
   "outputs": [],
   "source": [
    "plt.figure(figsize=(15,7))\n",
    "tmp2=data['page_likes_num'].loc[data['page_likes_num']<0.5e5]\n",
    "plt.hist(x=tmp2)\n",
    "plt.xlabel('page_likes_num')\n",
    "plt.ylabel('target')\n",
    "plt.title('page_likes_num distribution')\n",
    "plt.show()"
   ]
  },
  {
   "cell_type": "code",
   "execution_count": null,
   "metadata": {
    "collapsed": true
   },
   "outputs": [],
   "source": [
    "plt.figure(figsize=(15,7))\n",
    "plt.hist(x=tmp)\n",
    "plt.xlabel('page_likes_num')\n",
    "plt.ylabel('target')\n",
    "plt.title('log(page_likes_num) distribution')\n",
    "plt.show()"
   ]
  },
  {
   "cell_type": "markdown",
   "metadata": {},
   "source": [
    "### 'page_checkins' "
   ]
  },
  {
   "cell_type": "code",
   "execution_count": null,
   "metadata": {
    "collapsed": true
   },
   "outputs": [],
   "source": [
    "boxplot = data.boxplot(column=['page_checkins'], showfliers=False)"
   ]
  },
  {
   "cell_type": "code",
   "execution_count": null,
   "metadata": {
    "collapsed": true
   },
   "outputs": [],
   "source": [
    "about_outliers(data['page_checkins'])"
   ]
  },
  {
   "cell_type": "code",
   "execution_count": null,
   "metadata": {
    "collapsed": true
   },
   "outputs": [],
   "source": [
    "\n",
    "plt.figure(figsize=(15,7))\n",
    "plt.scatter(x=data['page_checkins'], y=data['target'])\n",
    "plt.xlabel('page_checkins')\n",
    "plt.ylabel('target')\n",
    "plt.title('scatter page_checkins')\n",
    "plt.show()\n"
   ]
  },
  {
   "cell_type": "code",
   "execution_count": null,
   "metadata": {
    "collapsed": true
   },
   "outputs": [],
   "source": [
    "plt.figure(figsize=(15,7))\n",
    "tmp2=data['page_checkins'].loc[data['page_checkins']<250]\n",
    "plt.hist(x=tmp2)\n",
    "plt.xlabel('page_checkins')\n",
    "plt.ylabel('target')\n",
    "plt.title('page_checkins distribution')\n",
    "plt.show()"
   ]
  },
  {
   "cell_type": "code",
   "execution_count": null,
   "metadata": {
    "collapsed": true
   },
   "outputs": [],
   "source": [
    "print('Size:')\n",
    "print(data['page_checkins'].shape[0])\n",
    "print('Amount of zero values:')\n",
    "print(data['page_checkins'].loc[data['page_checkins']==0].shape[0])"
   ]
  },
  {
   "cell_type": "markdown",
   "metadata": {},
   "source": [
    "### page_talking_about "
   ]
  },
  {
   "cell_type": "code",
   "execution_count": null,
   "metadata": {
    "collapsed": true
   },
   "outputs": [],
   "source": [
    "boxplot = data.boxplot(column=['page_talking_about'], showfliers=False)"
   ]
  },
  {
   "cell_type": "code",
   "execution_count": null,
   "metadata": {
    "collapsed": true
   },
   "outputs": [],
   "source": [
    "#try make log\n",
    "tmp=np.log(data['page_talking_about'])\n",
    "plt.boxplot(tmp, showfliers=False)\n",
    "plt.show()"
   ]
  },
  {
   "cell_type": "code",
   "execution_count": null,
   "metadata": {
    "collapsed": true
   },
   "outputs": [],
   "source": [
    "about_outliers(data['page_talking_about'])"
   ]
  },
  {
   "cell_type": "code",
   "execution_count": null,
   "metadata": {
    "collapsed": true
   },
   "outputs": [],
   "source": [
    "about_outliers(pd.Series(tmp, name='tmp'))"
   ]
  },
  {
   "cell_type": "code",
   "execution_count": null,
   "metadata": {
    "collapsed": true
   },
   "outputs": [],
   "source": [
    "plt.figure(figsize=(15,7))\n",
    "plt.scatter(x=data['page_talking_about'], y=data['target'])\n",
    "plt.xlabel('page_talking_about')\n",
    "plt.ylabel('target')\n",
    "plt.title('scatter page_talking_about')\n",
    "plt.show()"
   ]
  },
  {
   "cell_type": "code",
   "execution_count": null,
   "metadata": {
    "collapsed": true
   },
   "outputs": [],
   "source": [
    "plt.figure(figsize=(15,7))\n",
    "plt.scatter(x=tmp, y=data['target'])\n",
    "plt.xlabel('log(page_talking_about)')\n",
    "plt.ylabel('target')\n",
    "plt.title('scatter log(page_talking_about)')\n",
    "plt.show()"
   ]
  },
  {
   "cell_type": "code",
   "execution_count": null,
   "metadata": {
    "collapsed": true
   },
   "outputs": [],
   "source": [
    "plt.figure(figsize=(15,7))\n",
    "plt.hist(x=data['page_talking_about'])\n",
    "plt.xlabel('page_talking_about')\n",
    "plt.title('page_talking_about distribution')\n",
    "plt.show()"
   ]
  },
  {
   "cell_type": "code",
   "execution_count": null,
   "metadata": {
    "collapsed": true
   },
   "outputs": [],
   "source": [
    "tmp.loc[tmp==-np.inf]=-100"
   ]
  },
  {
   "cell_type": "code",
   "execution_count": null,
   "metadata": {
    "collapsed": true
   },
   "outputs": [],
   "source": [
    "plt.figure(figsize=(15,7))\n",
    "\n",
    "plt.hist(x=tmp)\n",
    "plt.xlabel('log(page_talking_about)')\n",
    "plt.title('log(page_talking_about) distribution')\n",
    "plt.show()"
   ]
  },
  {
   "cell_type": "markdown",
   "metadata": {},
   "source": [
    "### 'page_statistics' 5-29 cols"
   ]
  },
  {
   "cell_type": "code",
   "execution_count": null,
   "metadata": {
    "collapsed": true
   },
   "outputs": [],
   "source": [
    "names=data.columns[data.columns.astype(str).str.contains('page_statistics')==True]"
   ]
  },
  {
   "cell_type": "code",
   "execution_count": null,
   "metadata": {
    "collapsed": true
   },
   "outputs": [],
   "source": [
    "f=plt.figure(figsize=(30, 30))\n",
    "\n",
    "plt.matshow(data[names].corr(), fignum=f.number)\n",
    "plt.xticks(range(data[names].shape[1]), names, fontsize=14, rotation=75)\n",
    "plt.yticks(range(data[names].shape[1]), names, fontsize=14)\n",
    "\n",
    "cb = plt.colorbar()\n",
    "cb.ax.tick_params(labelsize=14)\n",
    "\n",
    "plt.title('Correlation Matrix', fontsize=20)"
   ]
  },
  {
   "cell_type": "code",
   "execution_count": null,
   "metadata": {
    "collapsed": true
   },
   "outputs": [],
   "source": [
    "nums=np.array([1, 2, 11, 20, 22, 23],dtype=str)\n",
    "names=['page_statistics_'+n for n in nums]"
   ]
  },
  {
   "cell_type": "code",
   "execution_count": null,
   "metadata": {
    "collapsed": true
   },
   "outputs": [],
   "source": [
    "print(data.loc[data['page_statistics']==0].shape[0])\n",
    "print(data.loc[data['page_statistics_15']==0].shape[0])\n",
    "print(data.loc[data['page_statistics_5']==0].shape[0])\n",
    "print(data.loc[data['page_statistics_10']==0].shape[0])"
   ]
  },
  {
   "cell_type": "code",
   "execution_count": null,
   "metadata": {
    "collapsed": true
   },
   "outputs": [],
   "source": [
    "print(data.loc[data['page_statistics_23']==0].shape[0])"
   ]
  },
  {
   "cell_type": "code",
   "execution_count": null,
   "metadata": {
    "collapsed": true
   },
   "outputs": [],
   "source": [
    "for name in names:\n",
    "    plt.figure(figsize=(5,5))\n",
    "    data.boxplot(column=name,showfliers=False, grid=False)\n",
    "    plt.show()\n",
    "    \n",
    "    plt.figure(figsize=(15,7))\n",
    "    plt.hist(x=data[name])\n",
    "    plt.xlabel(name)\n",
    "    plt.title(name+' distribution')\n",
    "    plt.show()\n",
    "    \n",
    "    plt.figure(figsize=(15,7))\n",
    "    plt.scatter(x=data[name], y=data['target'])\n",
    "    plt.xlabel(name)\n",
    "    plt.ylabel('target')\n",
    "    plt.xlim(0,20)\n",
    "    plt.title(name)\n",
    "    plt.show()"
   ]
  },
  {
   "cell_type": "code",
   "execution_count": null,
   "metadata": {
    "collapsed": true
   },
   "outputs": [],
   "source": [
    "nums_group_1=np.array([1,2,11], dtype=str)\n",
    "names_group_1=['page_statistics_'+num for num in nums_group_1]"
   ]
  },
  {
   "cell_type": "code",
   "execution_count": null,
   "metadata": {
    "collapsed": true
   },
   "outputs": [],
   "source": [
    "data[np.append(names_group_1, 'target')].corr()"
   ]
  },
  {
   "cell_type": "code",
   "execution_count": null,
   "metadata": {
    "collapsed": true
   },
   "outputs": [],
   "source": [
    "tmp_df=pd.DataFrame(np.sqrt(data[names_group_1]), columns=names_group_1)"
   ]
  },
  {
   "cell_type": "code",
   "execution_count": null,
   "metadata": {
    "collapsed": true
   },
   "outputs": [],
   "source": [
    "for name in names_group_1:\n",
    "    plt.figure(figsize=(5,5))\n",
    "    tmp_df.boxplot(column=name,showfliers=False, grid=False)\n",
    "    plt.show()"
   ]
  },
  {
   "cell_type": "code",
   "execution_count": null,
   "metadata": {
    "collapsed": true
   },
   "outputs": [],
   "source": [
    "# 20 и 22"
   ]
  },
  {
   "cell_type": "code",
   "execution_count": null,
   "metadata": {
    "collapsed": true
   },
   "outputs": [],
   "source": [
    "plt.figure(figsize=(15,7))\n",
    "plt.scatter(x=tmp, y=data['target'])\n",
    "plt.xlabel('page_statistics_20')\n",
    "plt.ylabel('target')\n",
    "plt.xlim(0,20)\n",
    "plt.title('scatter page_statistics_20')\n",
    "plt.show()"
   ]
  },
  {
   "cell_type": "code",
   "execution_count": null,
   "metadata": {
    "collapsed": true
   },
   "outputs": [],
   "source": [
    "plt.figure(figsize=(15,7))\n",
    "plt.scatter(x=tmp, y=data['target'])\n",
    "plt.xlabel('page_statistics_22')\n",
    "plt.ylabel('target')\n",
    "plt.xlim(0,20)\n",
    "plt.title('scatter page_statistics_22')\n",
    "plt.show()"
   ]
  },
  {
   "cell_type": "markdown",
   "metadata": {},
   "source": [
    "### comments_num* #30-34"
   ]
  },
  {
   "cell_type": "code",
   "execution_count": null,
   "metadata": {
    "collapsed": true
   },
   "outputs": [],
   "source": [
    "names=['comments_num_before_base_time',#30\n",
    "                'comments_num_in_last_24_hours',#31 #last day\n",
    "                'comments_num_in_last_48_to_24_hours',#32 #day before last\n",
    "                'comments_num_in_first_24_hours',#33\n",
    "                'comments_difference_in_last_two_days' ]\n",
    "\n",
    "f2=plt.figure(figsize=(5, 5))\n",
    "\n",
    "plt.matshow(data[names].corr(), fignum=f2.number)\n",
    "plt.xticks(range(data[names].shape[1]), names, fontsize=14, rotation=75)\n",
    "plt.yticks(range(data[names].shape[1]), names, fontsize=14)\n",
    "\n",
    "cb = plt.colorbar()\n",
    "cb.ax.tick_params(labelsize=14)"
   ]
  },
  {
   "cell_type": "code",
   "execution_count": null,
   "metadata": {
    "collapsed": true
   },
   "outputs": [],
   "source": [
    "data[names].corr()"
   ]
  },
  {
   "cell_type": "code",
   "execution_count": null,
   "metadata": {
    "collapsed": true
   },
   "outputs": [],
   "source": [
    "for name in names:\n",
    "    print('Zero num in '+name)\n",
    "    print(data.loc[data[name]==0].shape[0])"
   ]
  },
  {
   "cell_type": "code",
   "execution_count": null,
   "metadata": {
    "collapsed": true
   },
   "outputs": [],
   "source": [
    "for name in names:\n",
    "    plt.figure(figsize=(5,5))\n",
    "    data.boxplot(column=name,showfliers=False, grid=False)\n",
    "    plt.show()\n",
    "    \n",
    "    plt.figure(figsize=(15,7))\n",
    "    plt.hist(x=data[name])\n",
    "    plt.xlabel(name)\n",
    "    plt.title(name+' distribution')\n",
    "    plt.show()\n",
    "    \n",
    "    plt.figure(figsize=(15,7))\n",
    "    plt.scatter(x=data[name], y=data['target'])\n",
    "    plt.xlabel(name)\n",
    "    plt.ylabel('target')\n",
    "    plt.title(names[0])\n",
    "    plt.show()"
   ]
  },
  {
   "cell_type": "markdown",
   "metadata": {},
   "source": [
    "### character_num_in_post"
   ]
  },
  {
   "cell_type": "code",
   "execution_count": null,
   "metadata": {
    "collapsed": true
   },
   "outputs": [],
   "source": [
    "plt.figure(figsize=(15,7))\n",
    "plt.hist(x=data['character_num_in_post'].loc[data['character_num_in_post']<1000])\n",
    "plt.xlabel('character_num_in_post')\n",
    "\n",
    "plt.title('character_num_in_post'+' distribution')\n",
    "plt.show()"
   ]
  },
  {
   "cell_type": "code",
   "execution_count": null,
   "metadata": {
    "collapsed": true
   },
   "outputs": [],
   "source": [
    "data.loc[data['character_num_in_post']==0].shape"
   ]
  },
  {
   "cell_type": "code",
   "execution_count": null,
   "metadata": {
    "collapsed": true
   },
   "outputs": [],
   "source": [
    "plt.figure(figsize=(15,7))\n",
    "plt.scatter(x=data['character_num_in_post'], y=data['target'])\n",
    "plt.xlabel('character_num_in_post')\n",
    "plt.ylabel('target')\n",
    "plt.xlim(0,5000)\n",
    "plt.title('character_num_in_post')\n",
    "plt.show()"
   ]
  },
  {
   "cell_type": "markdown",
   "metadata": {},
   "source": [
    "###   'share_num' "
   ]
  },
  {
   "cell_type": "code",
   "execution_count": null,
   "metadata": {
    "collapsed": true
   },
   "outputs": [],
   "source": [
    "print(data.loc[data['share_num']==0].shape[0])\n",
    "print(data.loc[data['share_num']==1].shape[0])"
   ]
  },
  {
   "cell_type": "code",
   "execution_count": null,
   "metadata": {
    "collapsed": true
   },
   "outputs": [],
   "source": [
    "plt.figure(figsize=(15,7))\n",
    "plt.hist(x=data['share_num'].loc[data['share_num']<1000])\n",
    "plt.xlabel('share_num')\n",
    "\n",
    "plt.title('share_num'+' distribution')\n",
    "plt.show()"
   ]
  },
  {
   "cell_type": "code",
   "execution_count": null,
   "metadata": {
    "collapsed": true
   },
   "outputs": [],
   "source": [
    "tmp=np.log(data['share_num'])\n",
    "\n",
    "plt.figure(figsize=(15,7))\n",
    "plt.hist(x=tmp)\n",
    "plt.xlabel('log share_num')\n",
    "\n",
    "plt.title('log share_num'+' distribution')\n",
    "plt.show()"
   ]
  },
  {
   "cell_type": "code",
   "execution_count": null,
   "metadata": {
    "collapsed": true
   },
   "outputs": [],
   "source": [
    "plt.figure(figsize=(15,7))\n",
    "plt.scatter(x=data['share_num'], y=data['target'])\n",
    "plt.xlabel('share_num')\n",
    "plt.ylabel('target')\n",
    "plt.xlim(0,5000)\n",
    "plt.title('share_num')\n",
    "plt.show()"
   ]
  },
  {
   "cell_type": "markdown",
   "metadata": {},
   "source": [
    "## categories"
   ]
  },
  {
   "cell_type": "markdown",
   "metadata": {},
   "source": [
    "### 'page_cat'"
   ]
  },
  {
   "cell_type": "code",
   "execution_count": null,
   "metadata": {
    "collapsed": true
   },
   "outputs": [],
   "source": [
    "print('amount of categories:')\n",
    "print(len(data['page_cat'].unique()))"
   ]
  },
  {
   "cell_type": "code",
   "execution_count": null,
   "metadata": {
    "collapsed": true
   },
   "outputs": [],
   "source": [
    "plt.figure(figsize=(15,7))\n",
    "tmp=data.groupby(by=['page_cat'])['page_cat'].count()\n",
    "print(tmp.sort_values().head())\n",
    "print(tmp.sort_values().tail())\n",
    "plt.bar(list(tmp.index),tmp.values)\n",
    "plt.xlabel('page_cat')\n",
    "plt.title('page_cat distribution')\n",
    "plt.show()"
   ]
  },
  {
   "cell_type": "markdown",
   "metadata": {},
   "source": [
    "### 'base_time' "
   ]
  },
  {
   "cell_type": "code",
   "execution_count": null,
   "metadata": {
    "collapsed": true
   },
   "outputs": [],
   "source": [
    "y=data['base_time'].unique()\n",
    "y.sort()\n",
    "print(y)"
   ]
  },
  {
   "cell_type": "code",
   "execution_count": null,
   "metadata": {
    "collapsed": true
   },
   "outputs": [],
   "source": [
    "plt.figure(figsize=(15,7))\n",
    "tmp=data.groupby(by=['base_time'])['base_time'].count()\n",
    "print(tmp.sort_values().head())\n",
    "print(tmp.sort_values().tail())\n",
    "plt.bar(list(tmp.index),tmp.values)\n",
    "plt.xlabel('base_time')\n",
    "plt.title('base_time distribution')\n",
    "plt.show()"
   ]
  },
  {
   "cell_type": "code",
   "execution_count": null,
   "metadata": {
    "collapsed": true
   },
   "outputs": [],
   "source": [
    "data.boxplot(column='target', by='base_time', showfliers=False, figsize=(15,7))"
   ]
  },
  {
   "cell_type": "markdown",
   "metadata": {},
   "source": [
    "### h_local "
   ]
  },
  {
   "cell_type": "code",
   "execution_count": null,
   "metadata": {
    "collapsed": true
   },
   "outputs": [],
   "source": [
    "y=data['h_local'].unique()\n",
    "y.sort()\n",
    "print(y)"
   ]
  },
  {
   "cell_type": "code",
   "execution_count": null,
   "metadata": {
    "collapsed": true
   },
   "outputs": [],
   "source": [
    "plt.figure(figsize=(15,7))\n",
    "tmp=data.groupby(by=['h_local'])['h_local'].count()\n",
    "print(tmp.sort_values().head())\n",
    "print(tmp.sort_values().tail())\n",
    "plt.bar(list(tmp.index),tmp.values)\n",
    "plt.xlabel('h_local')\n",
    "plt.title('h_local distribution')\n",
    "plt.show()"
   ]
  },
  {
   "cell_type": "code",
   "execution_count": null,
   "metadata": {
    "collapsed": true
   },
   "outputs": [],
   "source": [
    "data.boxplot(column='target', by='h_local', showfliers=False, figsize=(15,7))"
   ]
  },
  {
   "cell_type": "markdown",
   "metadata": {},
   "source": [
    "###  'post_published_weekday', #40-46 This represents the day(Sunday...Saturday) on which the post was published. "
   ]
  },
  {
   "cell_type": "code",
   "execution_count": null,
   "metadata": {
    "collapsed": true
   },
   "outputs": [],
   "source": [
    "names=data.columns[data.columns.astype(str).str.contains('post_published_weekday')==True]"
   ]
  },
  {
   "cell_type": "code",
   "execution_count": null,
   "metadata": {
    "collapsed": true
   },
   "outputs": [],
   "source": [
    "tmp_df=data[names]"
   ]
  },
  {
   "cell_type": "code",
   "execution_count": null,
   "metadata": {
    "collapsed": true
   },
   "outputs": [],
   "source": [
    "print(tmp_df.sum(axis=0))"
   ]
  },
  {
   "cell_type": "code",
   "execution_count": null,
   "metadata": {
    "collapsed": true
   },
   "outputs": [],
   "source": [
    "for name in names:    \n",
    "    #data.boxplot(column='target', by=name, showfliers=False, figsize=(15,7))\n",
    "    \n",
    "    plt.figure(figsize=(15,7))\n",
    "    plt.scatter(x=data[name], y=data['target'])\n",
    "    plt.xlabel(name)\n",
    "    plt.ylabel('target')\n",
    "    plt.xlim(-0.5,1.5)\n",
    "    plt.title(name)\n",
    "    plt.show()"
   ]
  },
  {
   "cell_type": "code",
   "execution_count": null,
   "metadata": {
    "collapsed": true
   },
   "outputs": [],
   "source": [
    "f=plt.figure(figsize=(30, 30))\n",
    "names=np.append(names,'target')\n",
    "plt.matshow(data[names].corr(), fignum=f.number)\n",
    "plt.xticks(range(data[names].shape[1]), names, fontsize=14, rotation=75)\n",
    "plt.yticks(range(data[names].shape[1]), names, fontsize=14)\n",
    "\n",
    "cb = plt.colorbar()\n",
    "cb.ax.tick_params(labelsize=14)"
   ]
  },
  {
   "cell_type": "code",
   "execution_count": null,
   "metadata": {
    "collapsed": true
   },
   "outputs": [],
   "source": [
    "data[names].corr()"
   ]
  },
  {
   "cell_type": "markdown",
   "metadata": {},
   "source": [
    "### 'base_datetime_weekday', #47-53 This represents the day(Sunday...Saturday) on selected base Date/Time.  "
   ]
  },
  {
   "cell_type": "code",
   "execution_count": null,
   "metadata": {
    "collapsed": true
   },
   "outputs": [],
   "source": [
    "names=data.columns[data.columns.astype(str).str.contains('base_datetime_weekday')==True]"
   ]
  },
  {
   "cell_type": "code",
   "execution_count": null,
   "metadata": {
    "collapsed": true
   },
   "outputs": [],
   "source": [
    "tmp_df=data[names]\n",
    "print(tmp_df.sum(axis=0))"
   ]
  },
  {
   "cell_type": "code",
   "execution_count": null,
   "metadata": {
    "collapsed": true
   },
   "outputs": [],
   "source": [
    "for name in names:    \n",
    "    data.boxplot(column='target', by=name, showfliers=False, figsize=(15,7))\n",
    "    \n",
    "    plt.figure(figsize=(15,7))\n",
    "    plt.scatter(x=data[name], y=data['target'])\n",
    "    plt.xlabel(name)\n",
    "    plt.ylabel('target')\n",
    "    plt.xlim(-0.5,1.5)\n",
    "    plt.title(name)\n",
    "    plt.show()"
   ]
  },
  {
   "cell_type": "code",
   "execution_count": null,
   "metadata": {
    "collapsed": true
   },
   "outputs": [],
   "source": [
    "f=plt.figure(figsize=(30, 30))\n",
    "names=np.append(names,'target')\n",
    "plt.matshow(data[names].corr(), fignum=f.number)\n",
    "plt.xticks(range(data[names].shape[1]), names, fontsize=14, rotation=75)\n",
    "plt.yticks(range(data[names].shape[1]), names, fontsize=14)\n",
    "\n",
    "cb = plt.colorbar()\n",
    "cb.ax.tick_params(labelsize=14)"
   ]
  },
  {
   "cell_type": "code",
   "execution_count": null,
   "metadata": {
    "collapsed": true
   },
   "outputs": [],
   "source": [
    "data[names].corr()"
   ]
  },
  {
   "cell_type": "markdown",
   "metadata": {},
   "source": [
    "# ALL"
   ]
  },
  {
   "cell_type": "markdown",
   "metadata": {},
   "source": [
    "## Target"
   ]
  },
  {
   "cell_type": "code",
   "execution_count": null,
   "metadata": {
    "collapsed": true
   },
   "outputs": [],
   "source": [
    "data.boxplot(column='target', showfliers=True, figsize=(15,7))"
   ]
  },
  {
   "cell_type": "code",
   "execution_count": null,
   "metadata": {
    "collapsed": true
   },
   "outputs": [],
   "source": [
    "data.loc[data['target']==0].shape[0]"
   ]
  },
  {
   "cell_type": "code",
   "execution_count": null,
   "metadata": {
    "collapsed": true
   },
   "outputs": [],
   "source": [
    "plt.figure(figsize=(15,7))\n",
    "plt.hist(x=data.loc[data['target']<20, 'target'])\n",
    "plt.xlabel('target')\n",
    "plt.xlim(0,20)\n",
    "plt.title('target distribution')\n",
    "plt.show()"
   ]
  },
  {
   "cell_type": "code",
   "execution_count": null,
   "metadata": {
    "collapsed": true
   },
   "outputs": [],
   "source": [
    "tmp=(data['target'])**(1/4)\n",
    "\n",
    "plt.figure(figsize=(15,7))\n",
    "plt.hist(x=tmp)\n",
    "plt.xlabel('target')\n",
    "#plt.xlim(0,20)\n",
    "plt.title('target distribution')\n",
    "plt.show()"
   ]
  },
  {
   "cell_type": "code",
   "execution_count": null,
   "metadata": {
    "collapsed": true
   },
   "outputs": [],
   "source": [
    "tmp.max()"
   ]
  },
  {
   "cell_type": "markdown",
   "metadata": {},
   "source": [
    "## Target vs others "
   ]
  },
  {
   "cell_type": "code",
   "execution_count": null,
   "metadata": {
    "collapsed": true
   },
   "outputs": [],
   "source": [
    "correlations_with_target=data.corr()"
   ]
  },
  {
   "cell_type": "code",
   "execution_count": null,
   "metadata": {
    "collapsed": true
   },
   "outputs": [],
   "source": [
    "correlations_with_target['target'].sort_values()"
   ]
  },
  {
   "cell_type": "markdown",
   "metadata": {},
   "source": [
    "# Выводы"
   ]
  },
  {
   "cell_type": "markdown",
   "metadata": {},
   "source": [
    "## float data\n",
    "\n",
    "**1. page_likes_num:**\n",
    " - можно попробовать прологарифмировать\n",
    " - можно попробовать убрать выбросы\n",
    " \n",
    "**2. page_checkins**\n",
    " - слишком много нулей (больше половины: 25 тысяч из 40)\n",
    " - может быть стоит убрать из рассмотрения из-за нулей или\n",
    " - может стоит перекодировать (0 против всех)\n",
    " \n",
    "**3. page_talking_about**\n",
    " - может стоит прологарифмировать, но при этом стоит обработать -inf\n",
    " - возможно, стоит убрать выбросы\n",
    " \n",
    "**4. page_statistics' 5-29 cols**\n",
    " - наблюдаются сильные корреляции между признаками (0 с 15, 1 с 4, 6, 9 и тд), часть из них можно убрать, стоит оставиь признаки с номерами: 0, 1, 2, 5, 10, 11, 20, 22, 23. Остальные признаки имеют сильные корреляции с этими признаками, поэтому информации из отобранных признаков может оказаться достаточно.\n",
    " - признаки 0, 5, 10 и 15 имеют слишком много нулей (больше 37 тысяч из 40). Их лучше убрать, либо один против всех\n",
    " - признак 23 имеет половину 0, можно сделать один против всех\n",
    " - для 1,2,11 можно попробовать корень или логарифм распределения\n",
    " - из графиков рассеяния можно увидеть, что целевая переменная слабо зависит от 1,2,11, то же самое видно из коэффициентов корреляции, надо проверить попробовать запустить без этих параметров\n",
    " \n",
    "**5. 'comments_num_'**\n",
    "\n",
    " - 'comments_num_before_base_time' сильно коррелирует с  'comments_num_in_first_24_hours', можно попробовать без одного из этих полей\n",
    " - во всех наблюдается большое количество нулей, стоит кодировать (один против всех, там где 15-20 тысяч и другое кодирование для других)\n",
    " \n",
    "**6. character_num_in_post**\n",
    " \n",
    " - Целочисленное значение, которое можно попробовать закодировать (до 100 знаков и тд)\n",
    " - Много нулей: чуть меньше 5 тысяч из 40\n",
    " - Есть зависимость целевой переменной:  чем большу символов, тем меньше лайков чаще всего\n",
    " \n",
    "**7. share_num**\n",
    "\n",
    " - Нулей нет, много единиц: более 8 тысяч из 40, можно попробовать перекодировать по диапазонам\n",
    " - Логарифм не сильно помогает из-за большого числа единиц\n",
    "\n",
    "## cat data\n",
    "\n",
    "**8. 'page_cat'**\n",
    " - 81 категория\n",
    " - каких-то значений много 7491, каких-то мало 1, возможно, признак не стоит рассматривать, либо стоит закодировать по частоте\n",
    " - в pdf файле есть текстовые названия, названия содержат однокоренные слова (sport, art), можно попробовать рассмотреть как тексты\n",
    " - можно закодировать one-hot\n",
    " - можно и тексты, и one-hot\n",
    " \n",
    "**9. base_time**\n",
    " - В документации указано, что это закодированное значение в диапозоне от 0 до 71, на практике от 0 до 72\n",
    " - Разница в объеме данных для каждого значения небольшая (минимум 489 записей, максимум 625 записей)\n",
    " - Распределение целевой переменной для некоторых значений могут сильно различаться\n",
    " - Можно попробовать развернуть в one-hot encoding, но тогда возможно будет потеряна связь между значениями признака, а зависимость целевой переменной от признака к признаку заметно: чем больше признак, тем меньше разброс значений переменной.\n",
    " \n",
    "**10. h_local**\n",
    " - значения от 1 до 24, очень плохо сбалансировано, почти все значения равны 24. Можно попробовать убрать или сделать один против всех или one-hot\n",
    " - зависимость целевой переменной между соседними признаками не наблюдаема, надо посчитать\n",
    " \n",
    "**11. post_published_weekday_**\n",
    " - для каждого столбца 5-6 тысяч ненулевых значений\n",
    " - для всех столбцов boxplot целевой переменной для значений 0 и 1 выглядит одинаково,но очень большое количество данных отсеиваются как выбросы, поэтому стоит посмотреть на матрицу корреляций\n",
    " - из матрицы корреляций видно, что признаки очень слабо коррелируют с целевой переменной, можно попробовать без них\n",
    "\n",
    "**12. base_datetime_weekday_**\n",
    " - для каждого столбца 5-6 тысяч ненулевых значений\n",
    " - для всех столбцов boxplot, кроме пятницы и субботы целевой переменной для значений 0 и 1 выглядит одинаково,но очень большое количество данных отсеиваются как выбросы, поэтому стоит посмотреть на матрицу корреляций\n",
    " - из матрицы корреляций видно, что признаки очень слабо коррелируют с целевой переменной, можно попробовать без них\n",
    "\n",
    "## target\n",
    " - очень много нулей: 22 тысячи из 40\n",
    " "
   ]
  },
  {
   "cell_type": "markdown",
   "metadata": {},
   "source": [
    "# Возможные дополнительные признаки"
   ]
  },
  {
   "cell_type": "markdown",
   "metadata": {},
   "source": [
    "1. Из признаков post_published_weekday_ и base_datetime_weekday_ вывести бинарный признак выходного дня\n",
    "2. Отношение share_num к comments_num_before_base_time\n",
    "3. Отношение page_talking_about к page_likes_num #доля репостов к лайкам\n",
    "4. Отношение comments_num_in_last_24_hours к comments_num_before_base_time\n",
    "5. Отношение comments_num_in_last_24_hours к comments_num_in_last_48_to_24_hours #скорость падения интереса\n",
    "6. Отношение 'comments_num_in_last_24_hours' к 'comments_num_in_first_24_hours'\n",
    "7. Попробовать квадратичные признаки"
   ]
  },
  {
   "cell_type": "markdown",
   "metadata": {},
   "source": [
    "## Features engineering"
   ]
  },
  {
   "cell_type": "markdown",
   "metadata": {},
   "source": [
    "### Some interesting features "
   ]
  },
  {
   "cell_type": "code",
   "execution_count": 6,
   "metadata": {
    "collapsed": true
   },
   "outputs": [],
   "source": [
    "#1. Из признаков post_published_weekday_ и base_datetime_weekday_ вывести бинарный признак выходного дня\n",
    "data['is_post_published_in_holiday']=data[['post_published_weekday_saturday',\n",
    "                                          'post_published_weekday_sunday']].apply(lambda x: \n",
    "                                                                                 1 if (\n",
    "                                                                                     x['post_published_weekday_saturday']==1\n",
    "                                                                                 ) or (\n",
    "                                                                                     x['post_published_weekday_sunday']==1\n",
    "                                                                                 )\n",
    "                                                                                else 0, axis=1)\n",
    "data['is_base_datetime_holiday']=data[['base_datetime_weekday_saturday',\n",
    "                                          'base_datetime_weekday_sunday']].apply(lambda x: \n",
    "                                                                                 1 if (\n",
    "                                                                                     x['base_datetime_weekday_saturday']==1\n",
    "                                                                                 ) or (\n",
    "                                                                                     x['base_datetime_weekday_sunday']==1\n",
    "                                                                                 )\n",
    "                                                                                else 0, axis=1)"
   ]
  },
  {
   "cell_type": "code",
   "execution_count": 10,
   "metadata": {
    "collapsed": true
   },
   "outputs": [
    {
     "name": "stdout",
     "output_type": "stream",
     "text": [
      "zero num in is_post_published_in_holiday\n",
      "(30326, 55)\n"
     ]
    }
   ],
   "source": [
    "print('zero num in is_post_published_in_holiday')\n",
    "print(data.loc[data['is_post_published_in_holiday']==0].shape)"
   ]
  },
  {
   "cell_type": "code",
   "execution_count": 12,
   "metadata": {
    "collapsed": true
   },
   "outputs": [
    {
     "data": {
      "image/png": "[encoded data removed]",
      "text/plain": [
       "<Figure size 504x504 with 1 Axes>"
      ]
     },
     "metadata": {
      "needs_background": "light"
     },
     "output_type": "display_data"
    }
   ],
   "source": [
    "plt.figure(figsize=(7,7))\n",
    "plt.scatter(x=data['is_post_published_in_holiday'], y=data['target'])\n",
    "\n",
    "plt.xlabel('is_post_published_in_holiday')\n",
    "plt.ylabel('target')\n",
    "plt.title('scatter is_post_published_in_holiday')\n",
    "plt.show()"
   ]
  },
  {
   "cell_type": "code",
   "execution_count": 22,
   "metadata": {
    "collapsed": true
   },
   "outputs": [
    {
     "name": "stdout",
     "output_type": "stream",
     "text": [
      "zero num in is_base_datetime_holiday\n",
      "29210\n"
     ]
    }
   ],
   "source": [
    "print('zero num in is_base_datetime_holiday')\n",
    "print(data.loc[data['is_base_datetime_holiday']==0].shape[0])"
   ]
  },
  {
   "cell_type": "code",
   "execution_count": 15,
   "metadata": {
    "collapsed": true
   },
   "outputs": [
    {
     "data": {
      "image/png": "[encoded data removed]",
      "text/plain": [
       "<Figure size 504x504 with 1 Axes>"
      ]
     },
     "metadata": {
      "needs_background": "light"
     },
     "output_type": "display_data"
    }
   ],
   "source": [
    "plt.figure(figsize=(7,7))\n",
    "plt.scatter(x=data['is_base_datetime_holiday'], y=data['target'])\n",
    "\n",
    "plt.xlabel('is_base_datetime_holiday')\n",
    "plt.ylabel('target')\n",
    "plt.title('scatter is_base_datetime_holiday')\n",
    "plt.show()"
   ]
  },
  {
   "cell_type": "code",
   "execution_count": 16,
   "metadata": {
    "collapsed": true
   },
   "outputs": [
    {
     "name": "stdout",
     "output_type": "stream",
     "text": [
      "zeros num in denominator:\n",
      "6691\n"
     ]
    }
   ],
   "source": [
    "# 2. Отношение share_num к comments_num_before_base_time\n",
    "print('zeros num in denominator:')\n",
    "print(data.loc[data['comments_num_before_base_time']==0].shape[0])\n",
    "data['share_part_in_comm']=data['share_num']/(data['comments_num_before_base_time']+1)"
   ]
  },
  {
   "cell_type": "code",
   "execution_count": 27,
   "metadata": {
    "collapsed": true
   },
   "outputs": [
    {
     "name": "stdout",
     "output_type": "stream",
     "text": [
      "zero num in share_part_in_comm\n",
      "0\n"
     ]
    }
   ],
   "source": [
    "print('zero num in share_part_in_comm')\n",
    "print(data.loc[data['share_part_in_comm']==0].shape[0])"
   ]
  },
  {
   "cell_type": "code",
   "execution_count": 23,
   "metadata": {
    "collapsed": true
   },
   "outputs": [
    {
     "data": {
      "image/png": "[encoded data removed]",
      "text/plain": [
       "<Figure size 1080x504 with 1 Axes>"
      ]
     },
     "metadata": {
      "needs_background": "light"
     },
     "output_type": "display_data"
    }
   ],
   "source": [
    "plt.figure(figsize=(15,7))\n",
    "plt.scatter(x=data['share_part_in_comm'], y=data['target'])\n",
    "\n",
    "plt.xlabel('share_part_in_comm')\n",
    "plt.ylabel('target')\n",
    "plt.title('scatter share_part_in_comm')\n",
    "plt.show()"
   ]
  },
  {
   "cell_type": "code",
   "execution_count": 28,
   "metadata": {
    "collapsed": true
   },
   "outputs": [
    {
     "data": {
      "image/png": "[encoded data removed]",
      "text/plain": [
       "<Figure size 432x288 with 1 Axes>"
      ]
     },
     "metadata": {
      "needs_background": "light"
     },
     "output_type": "display_data"
    }
   ],
   "source": [
    "boxplot = data.boxplot(column=['share_part_in_comm'], showfliers=False)"
   ]
  },
  {
   "cell_type": "code",
   "execution_count": 33,
   "metadata": {
    "collapsed": true
   },
   "outputs": [
    {
     "name": "stdout",
     "output_type": "stream",
     "text": [
      "zeros num in denominator:\n",
      "0\n"
     ]
    }
   ],
   "source": [
    "# 3. Отношение page_talking_about к page_likes_num #доля репостов к лайкам\n",
    "print('zeros num in denominator:')\n",
    "print(data.loc[data['page_likes_num']==0].shape[0])\n",
    "data['page_share_part_in_likes']=data['page_talking_about']/(data['page_likes_num']+1)"
   ]
  },
  {
   "cell_type": "code",
   "execution_count": 34,
   "metadata": {
    "collapsed": true
   },
   "outputs": [
    {
     "name": "stdout",
     "output_type": "stream",
     "text": [
      "zero num in page_share_part_in_likes\n",
      "631\n"
     ]
    }
   ],
   "source": [
    "print('zero num in page_share_part_in_likes')\n",
    "print(data.loc[data['page_share_part_in_likes']==0].shape[0])"
   ]
  },
  {
   "cell_type": "code",
   "execution_count": 36,
   "metadata": {
    "collapsed": true
   },
   "outputs": [
    {
     "data": {
      "image/png": "[encoded data removed]",
      "text/plain": [
       "<Figure size 1080x504 with 1 Axes>"
      ]
     },
     "metadata": {
      "needs_background": "light"
     },
     "output_type": "display_data"
    }
   ],
   "source": [
    "plt.figure(figsize=(15,7))\n",
    "plt.scatter(x=data['page_share_part_in_likes'], y=data['target'])\n",
    "\n",
    "plt.xlabel('page_share_part_in_likes')\n",
    "plt.ylabel('target')\n",
    "plt.title('scatter page_share_part_in_likes')\n",
    "plt.show()"
   ]
  },
  {
   "cell_type": "code",
   "execution_count": 40,
   "metadata": {
    "collapsed": true
   },
   "outputs": [
    {
     "data": {
      "image/png": "[encoded data removed]",
      "text/plain": [
       "<Figure size 1080x504 with 1 Axes>"
      ]
     },
     "metadata": {
      "needs_background": "light"
     },
     "output_type": "display_data"
    }
   ],
   "source": [
    "plt.figure(figsize=(15,7))\n",
    "\n",
    "plt.hist(x=data['page_share_part_in_likes'])\n",
    "plt.xlabel('page_share_part_in_likes')\n",
    "plt.ylabel('target')\n",
    "plt.title('page_share_part_in_likes distribution')\n",
    "plt.show()"
   ]
  },
  {
   "cell_type": "code",
   "execution_count": 52,
   "metadata": {
    "collapsed": true
   },
   "outputs": [
    {
     "data": {
      "image/png": "[encoded data removed]",
      "text/plain": [
       "<Figure size 1080x504 with 1 Axes>"
      ]
     },
     "metadata": {
      "needs_background": "light"
     },
     "output_type": "display_data"
    }
   ],
   "source": [
    "tmp_page_share_part_in_likes=(data['page_share_part_in_likes'])**(1/4)\n",
    "plt.figure(figsize=(15,7))\n",
    "\n",
    "plt.hist(x=tmp_page_share_part_in_likes)\n",
    "plt.xlabel('sqrt (page_share_part_in_likes)')\n",
    "plt.ylabel('target')\n",
    "plt.title('sqrt(page_share_part_in_likes) distribution')\n",
    "plt.show()"
   ]
  },
  {
   "cell_type": "code",
   "execution_count": 55,
   "metadata": {
    "collapsed": true
   },
   "outputs": [
    {
     "name": "stdout",
     "output_type": "stream",
     "text": [
      "zeros num in denominator:\n",
      "6691\n"
     ]
    }
   ],
   "source": [
    "# 4. Отношение comments_num_in_last_24_hours к comments_num_before_base_time\n",
    "print('zeros num in denominator:')\n",
    "print(data.loc[data['comments_num_before_base_time']==0].shape[0])\n",
    "data['comm_part_1']=data['comments_num_in_last_24_hours']/(data['comments_num_before_base_time']+1)"
   ]
  },
  {
   "cell_type": "code",
   "execution_count": 56,
   "metadata": {
    "collapsed": true
   },
   "outputs": [
    {
     "name": "stdout",
     "output_type": "stream",
     "text": [
      "zero num in comm_part_1\n",
      "15016\n"
     ]
    }
   ],
   "source": [
    "print('zero num in comm_part_1')\n",
    "print(data.loc[data['comm_part_1']==0].shape[0])"
   ]
  },
  {
   "cell_type": "code",
   "execution_count": 59,
   "metadata": {
    "collapsed": true
   },
   "outputs": [
    {
     "data": {
      "image/png": "[encoded data removed]",
      "text/plain": [
       "<Figure size 1080x504 with 1 Axes>"
      ]
     },
     "metadata": {
      "needs_background": "light"
     },
     "output_type": "display_data"
    }
   ],
   "source": [
    "plt.figure(figsize=(15,7))\n",
    "\n",
    "plt.hist(x=data['comm_part_1'])\n",
    "plt.xlabel('comm_part_1')\n",
    "plt.ylabel('target')\n",
    "plt.title('comm_part_1 distribution')\n",
    "plt.show()"
   ]
  },
  {
   "cell_type": "code",
   "execution_count": 66,
   "metadata": {
    "collapsed": true
   },
   "outputs": [],
   "source": [
    "#data['comm_part_1_is_zero']=data['comm_part_1'].apply(lambda x: 1 if x==0 else 0)\n",
    "#data['comm_part_1_not_a_zero']=data['comm_part_1'].apply(lambda x: 1 if x>0 else 0)"
   ]
  },
  {
   "cell_type": "code",
   "execution_count": 69,
   "metadata": {
    "collapsed": true
   },
   "outputs": [
    {
     "name": "stdout",
     "output_type": "stream",
     "text": [
      "zeros num in denominator:\n",
      "20921\n"
     ]
    }
   ],
   "source": [
    "# 5. Отношение comments_num_in_last_24_hours к comments_num_in_last_48_to_24_hours #скорость падения интереса\n",
    "print('zeros num in denominator:')\n",
    "print(data.loc[data['comments_num_in_last_48_to_24_hours']==0].shape[0])\n",
    "data['comm_part_2']=data['comments_num_in_last_24_hours']/(data['comments_num_in_last_48_to_24_hours']+1)"
   ]
  },
  {
   "cell_type": "code",
   "execution_count": 91,
   "metadata": {
    "collapsed": true
   },
   "outputs": [
    {
     "name": "stdout",
     "output_type": "stream",
     "text": [
      "zero num in comm_part_2\n",
      "15016\n"
     ]
    }
   ],
   "source": [
    "print('zero num in comm_part_2')\n",
    "print(data.loc[data['comm_part_2']==0].shape[0])"
   ]
  },
  {
   "cell_type": "code",
   "execution_count": 78,
   "metadata": {
    "collapsed": true
   },
   "outputs": [
    {
     "data": {
      "image/png": "[encoded data removed]",
      "text/plain": [
       "<Figure size 1080x504 with 1 Axes>"
      ]
     },
     "metadata": {
      "needs_background": "light"
     },
     "output_type": "display_data"
    }
   ],
   "source": [
    "plt.figure(figsize=(15,7))\n",
    "\n",
    "plt.hist(x=data['comm_part_2'])\n",
    "plt.xlabel('comm_part_2')\n",
    "plt.ylabel('target')\n",
    "plt.title('comm_part_2 distribution')\n",
    "plt.show()"
   ]
  },
  {
   "cell_type": "code",
   "execution_count": 89,
   "metadata": {
    "collapsed": true
   },
   "outputs": [
    {
     "data": {
      "image/png": "[encoded data removed]",
      "text/plain": [
       "<Figure size 1080x504 with 1 Axes>"
      ]
     },
     "metadata": {
      "needs_background": "light"
     },
     "output_type": "display_data"
    }
   ],
   "source": [
    "tmp_page_share_part_in_likes=(data['comm_part_2'])**(1/5)\n",
    "plt.figure(figsize=(15,7))\n",
    "\n",
    "plt.hist(x=tmp_page_share_part_in_likes)\n",
    "plt.xlabel('sqrt (comm_part_2)')\n",
    "plt.ylabel('target')\n",
    "plt.title('sqrt(comm_part_2) distribution')\n",
    "plt.show()"
   ]
  },
  {
   "cell_type": "code",
   "execution_count": 93,
   "metadata": {
    "collapsed": true
   },
   "outputs": [
    {
     "name": "stdout",
     "output_type": "stream",
     "text": [
      "zeros num in denominator:\n",
      "6908\n"
     ]
    }
   ],
   "source": [
    "# 6. Отношение 'comments_num_in_last_24_hours' к 'comments_num_in_first_24_hours'\n",
    "print('zeros num in denominator:')\n",
    "print(data.loc[data['comments_num_in_first_24_hours']==0].shape[0])\n",
    "data['comm_part_3']=data['comments_num_in_last_24_hours']/(data['comments_num_in_first_24_hours']+1)"
   ]
  },
  {
   "cell_type": "code",
   "execution_count": 94,
   "metadata": {
    "collapsed": true
   },
   "outputs": [
    {
     "name": "stdout",
     "output_type": "stream",
     "text": [
      "zero num in comm_part_3\n",
      "15016\n"
     ]
    }
   ],
   "source": [
    "print('zero num in comm_part_3')\n",
    "print(data.loc[data['comm_part_3']==0].shape[0])"
   ]
  },
  {
   "cell_type": "markdown",
   "metadata": {},
   "source": [
    "## target vs new features "
   ]
  },
  {
   "cell_type": "code",
   "execution_count": 103,
   "metadata": {
    "collapsed": true
   },
   "outputs": [],
   "source": [
    "corr_cols=['is_post_published_in_holiday','is_base_datetime_holiday','share_part_in_comm','page_share_part_in_likes',\n",
    "         'comm_part_1','comm_part_2','comm_part_3', 'target']"
   ]
  },
  {
   "cell_type": "code",
   "execution_count": 105,
   "metadata": {},
   "outputs": [
    {
     "data": {
      "text/plain": [
       "is_base_datetime_holiday       -0.017860\n",
       "is_post_published_in_holiday   -0.008525\n",
       "share_part_in_comm              0.009015\n",
       "page_share_part_in_likes        0.055898\n",
       "comm_part_3                     0.194028\n",
       "comm_part_1                     0.242200\n",
       "comm_part_2                     0.512867\n",
       "target                          1.000000\n",
       "Name: target, dtype: float64"
      ]
     },
     "execution_count": 105,
     "metadata": {},
     "output_type": "execute_result"
    }
   ],
   "source": [
    "data[corr_cols].corr()['target'].sort_values()"
   ]
  },
  {
   "cell_type": "code",
   "execution_count": 107,
   "metadata": {},
   "outputs": [
    {
     "data": {
      "text/html": [
       "<div>\n",
       "<style scoped>\n",
       "    .dataframe tbody tr th:only-of-type {\n",
       "        vertical-align: middle;\n",
       "    }\n",
       "\n",
       "    .dataframe tbody tr th {\n",
       "        vertical-align: top;\n",
       "    }\n",
       "\n",
       "    .dataframe thead th {\n",
       "        text-align: right;\n",
       "    }\n",
       "</style>\n",
       "<table border=\"1\" class=\"dataframe\">\n",
       "  <thead>\n",
       "    <tr style=\"text-align: right;\">\n",
       "      <th></th>\n",
       "      <th>comm_part_2</th>\n",
       "      <th>comments_num_in_last_24_hours</th>\n",
       "      <th>comments_num_in_first_24_hours</th>\n",
       "      <th>target</th>\n",
       "    </tr>\n",
       "  </thead>\n",
       "  <tbody>\n",
       "    <tr>\n",
       "      <th>comm_part_2</th>\n",
       "      <td>1.000000</td>\n",
       "      <td>0.910810</td>\n",
       "      <td>0.494483</td>\n",
       "      <td>0.512867</td>\n",
       "    </tr>\n",
       "    <tr>\n",
       "      <th>comments_num_in_last_24_hours</th>\n",
       "      <td>0.910810</td>\n",
       "      <td>1.000000</td>\n",
       "      <td>0.689487</td>\n",
       "      <td>0.528693</td>\n",
       "    </tr>\n",
       "    <tr>\n",
       "      <th>comments_num_in_first_24_hours</th>\n",
       "      <td>0.494483</td>\n",
       "      <td>0.689487</td>\n",
       "      <td>1.000000</td>\n",
       "      <td>0.341748</td>\n",
       "    </tr>\n",
       "    <tr>\n",
       "      <th>target</th>\n",
       "      <td>0.512867</td>\n",
       "      <td>0.528693</td>\n",
       "      <td>0.341748</td>\n",
       "      <td>1.000000</td>\n",
       "    </tr>\n",
       "  </tbody>\n",
       "</table>\n",
       "</div>"
      ],
      "text/plain": [
       "                                comm_part_2  comments_num_in_last_24_hours  \\\n",
       "comm_part_2                        1.000000                       0.910810   \n",
       "comments_num_in_last_24_hours      0.910810                       1.000000   \n",
       "comments_num_in_first_24_hours     0.494483                       0.689487   \n",
       "target                             0.512867                       0.528693   \n",
       "\n",
       "                                comments_num_in_first_24_hours    target  \n",
       "comm_part_2                                           0.494483  0.512867  \n",
       "comments_num_in_last_24_hours                         0.689487  0.528693  \n",
       "comments_num_in_first_24_hours                        1.000000  0.341748  \n",
       "target                                                0.341748  1.000000  "
      ]
     },
     "execution_count": 107,
     "metadata": {},
     "output_type": "execute_result"
    }
   ],
   "source": [
    "comm2_cols=['comm_part_2' ,'comments_num_in_last_24_hours','comments_num_in_first_24_hours','target']\n",
    "data[comm2_cols].corr()"
   ]
  },
  {
   "cell_type": "markdown",
   "metadata": {},
   "source": [
    "### Poly features "
   ]
  },
  {
   "cell_type": "code",
   "execution_count": 16,
   "metadata": {
    "collapsed": true
   },
   "outputs": [],
   "source": [
    "\"\"\"\n",
    "# 7. Попробовать квадратичные признаки\n",
    "from sklearn.preprocessing import PolynomialFeatures\n",
    "\n",
    "poly = PolynomialFeatures(2, interaction_only=True, include_bias=False)\n",
    "cols=np.array(data.columns)\n",
    "cols=cols[cols!='target']\n",
    "data_copy_without_target=data.loc[:,cols]\n",
    "poly_feat=poly.fit_transform(data)\n",
    "\n",
    "new_df=pd.DataFrame(poly_feat)\n",
    "data=data.reset_index(drop=True)\n",
    "new_df=pd.concat([new_df, data['target']], axis=1)\n",
    "\"\"\""
   ]
  },
  {
   "cell_type": "markdown",
   "metadata": {},
   "source": [
    "## Выводы для новых фич "
   ]
  },
  {
   "cell_type": "markdown",
   "metadata": {},
   "source": [
    "1. is_post_published_in_holiday и is_base_datetime_holiday - очень много нулей: 30 тысяч из 40. Из scatter plot ожно увидеть небольшую зависимость целевой переменной, стоит посмотреть на корреляцию.\n",
    "2. share_part_in_comm\n",
    "3. page_share_part_in_likes - стоит попробовать рассмотреть корень 4 степени. С этим признаком скорее всего можно работать.\n",
    "4. comm_part_1 - 15 тысяч нулей из 40, получилось мульимодальное распределение -> стоит разделить на 2 части бинарно: является 0 или нет\n",
    "5. comm_part_2 - 15 тысяч нулей из 40, может стоит сделать бинарным. Из выведенных признаков сильнее всего коррелирует с целевой переменной, скорее всего из-за числителя.\n",
    "6. comm_part_3 - 15 тысяч нулей из 40, может стоит сделать бинарным."
   ]
  }
 ],
 "metadata": {
  "kernelspec": {
   "display_name": "Python 3",
   "language": "python",
   "name": "python3"
  },
  "language_info": {
   "codemirror_mode": {
    "name": "ipython",
    "version": 3
   },
   "file_extension": ".py",
   "mimetype": "text/x-python",
   "name": "python",
   "nbconvert_exporter": "python",
   "pygments_lexer": "ipython3",
   "version": "3.7.3"
  }
 },
 "nbformat": 4,
 "nbformat_minor": 2
}
