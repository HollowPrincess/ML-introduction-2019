{
 "cells": [
  {
   "cell_type": "code",
   "execution_count": null,
   "metadata": {},
   "outputs": [],
   "source": [
    "import numpy as np\n",
    "import random\n",
    "import tensorflow as tf\n",
    "from tensorflow.keras.models import clone_model\n",
    "\n",
    "from dm_control import suite\n",
    "from dm_control import viewer\n",
    "\n",
    "#import gym\n",
    "from matplotlib import pyplot as plt"
   ]
  },
  {
   "cell_type": "code",
   "execution_count": 15,
   "metadata": {},
   "outputs": [],
   "source": [
    "def convert_observation(obs):\n",
    "    list1 = [i.tolist() for i in list(obs.values())]\n",
    "    list2 = []\n",
    "    for sublist in list1:\n",
    "        try:\n",
    "            list2.extend(sublist)\n",
    "        except:\n",
    "            list2.append(sublist)\n",
    "    return list2"
   ]
  },
  {
   "cell_type": "code",
   "execution_count": 27,
   "metadata": {},
   "outputs": [],
   "source": [
    "class Agent:\n",
    "    def __init__(self, action_spec):\n",
    "        self.memory = {\n",
    "            \"state\":np.array([]), \n",
    "            \"action\":np.array([], dtype = int), \n",
    "            \"reward\":np.array([]),\n",
    "            \"new_state\":np.array([]), \n",
    "            \"done\":np.array([])\n",
    "        }\n",
    "        self.random_proba = 1.0\n",
    "        self.batch_size=64\n",
    "        self.discount_rate=0.99\n",
    "        self.tau=0.001\n",
    "        self.action_dim = len(action_spec.minimum) #action_spec.shape\n",
    "        self.action_spec = action_spec\n",
    "        self.action_bound = 1\n",
    "        self.input_size = 25\n",
    "\n",
    "        # create critic model:\n",
    "        #input_obs = tf.keras.Input(shape=(self.input_size,))\n",
    "        input_obs = tf.keras.Input(shape=self.input_size)\n",
    "        input_actions = tf.keras.Input(shape=(self.action_dim,))\n",
    "        h = tf.keras.layers.Dense(64, activation = 'relu')(input_obs)\n",
    "        #h = BatchNormalization()(h)\n",
    "        tmp1 = tf.keras.layers.Dense(64)(h)\n",
    "        action_abs = tf.keras.layers.Dense(64, activation = 'relu')(input_actions)\n",
    "        #action_abs = Activation('relu')(action_abs)\n",
    "        #action_abs = BatchNormalization()(action_abs)\n",
    "        h = tf.keras.layers.Add()([tmp1,action_abs])\n",
    "        #h = Dense(64)(h)\n",
    "        h = tf.keras.layers.Activation('relu')(h)\n",
    "        #h = BatchNormalization()(h)\n",
    "        pred = tf.keras.layers.Dense(1, kernel_initializer='random_uniform')(h)\n",
    "        model = tf.keras.Model(inputs=[input_obs, input_actions], outputs=pred)\n",
    "        model.compile(optimizer='Adam',loss='mean_squared_error')\n",
    "        self.critic_model = model\n",
    "        \n",
    "        # create actor model:\n",
    "        model = tf.keras.Sequential()\n",
    "        model.add(tf.keras.layers.Dense(400, input_dim = self.input_size))#, activation='relu'))\n",
    "        model.add(tf.keras.layers.BatchNormalization())\n",
    "        model.add(tf.keras.layers.Activation('relu'))\n",
    "        model.add(tf.keras.layers.Dense(300))\n",
    "        model.add(tf.keras.layers.BatchNormalization())\n",
    "        model.add(tf.keras.layers.Activation('relu'))\n",
    "        model.add(tf.keras.layers.Dense(self.action_dim, activation = \"tanh\"))\n",
    "        model.compile(loss='mse', optimizer=\"Adam\")\n",
    "        self.actor_model = model\n",
    "        \n",
    "        # target models:\n",
    "        self.target_critic_model = clone_model(self.critic_model)\n",
    "        self.target_actor_model = clone_model(self.actor_model)\n",
    " \n",
    "    def sample_action(self, obs):\n",
    "        action = self.actor_model.predict(obs)\n",
    "        #gaussian_noise = GaussianNoiseGenerator(self.action_spec.shape, -1, 1, 0.3)\n",
    "        action = action +  np.random.normal(0, 0.3, self.action_spec.shape) # random_policy(-0.1, 0.1, size=self.action_spec.shape) #gauss noize?\n",
    "        return action\n",
    "    \n",
    "    def store_info(self, obs, new_obs, action, reward, done):\n",
    "        if len(self.memory[\"state\"])>0:\n",
    "            self.memory[\"state\"] = np.vstack((self.memory[\"state\"], obs))\n",
    "            self.memory[\"new_state\"] = np.vstack((self.memory[\"new_state\"], new_obs))\n",
    "        else:\n",
    "            self.memory[\"state\"] = np.array(obs)\n",
    "            self.memory[\"new_state\"] = np.array(new_obs)\n",
    "        self.memory[\"action\"] = np.append(self.memory[\"action\"], action)\n",
    "        self.memory[\"reward\"] = np.append(self.memory[\"reward\"], reward)\n",
    "        self.memory[\"done\"] = np.append(self.memory[\"done\"], done)        \n",
    "        \n",
    "        \n",
    "    def experience_replay(self):\n",
    "        if len(self.memory[\"state\"])>=self.batch_size:\n",
    "            # get batch\n",
    "            idxs = np.random.randint(len(self.memory[\"done\"]), size=self.batch_size)\n",
    "            batch = {\n",
    "                \"state\": np.squeeze(self.memory[\"state\"][idxs]), \n",
    "                \"action\": self.memory[\"action\"][idxs], \n",
    "                \"reward\": self.memory[\"reward\"][idxs], \n",
    "                \"new_state\": np.squeeze(self.memory[\"new_state\"][idxs]), \n",
    "                \"done\": self.memory[\"done\"][idxs]\n",
    "            }\n",
    "            \n",
    "            # replay:\n",
    "            #target_q = self.critic_model.predict_on_batch([batch[\"new_state\"], \n",
    "            #                                self.actor_model.predict(batch[\"new_state\"])])\n",
    "            target_q = self.target_critic_model.predict_on_batch([batch[\"new_state\"], \n",
    "                                            self.target_actor_model.predict(batch[\"new_state\"])])\n",
    "            y = batch[\"reward\"] + self.discount_rate*target_q*(1-batch[\"done\"])\n",
    "            \n",
    "            # update critic\n",
    "            self.critic_model.train_on_batch([batch[\"state\"], batch[\"action\"]], \n",
    "                                                   np.reshape(y, (self.batch_size, 1)))    \n",
    "            \n",
    "           \n",
    "            # update actor policy\n",
    "            actions_pred = self.actor_model.predict(batch[\"state\"])\n",
    "            self.actor_model.fit(batch[\"state\"], actions_pred, epochs = 1, verbose = 0)    \n",
    "            \n",
    "            # update networks           \n",
    "            critic_weights =  self.critic_model.get_weights()\n",
    "            actor_weights = self.actor_model.get_weights()\n",
    "            \n",
    "            old_critic_target_weights = self.target_critic_model.get_weights()\n",
    "            old_actor_target_weights = self.target_actor_model.get_weights()\n",
    "            \n",
    "            for i in range(len(critic_weights)):\n",
    "                old_critic_target_weights[i] = self.tau*old_critic_target_weights[i] + (1-self.tau)*critic_weights[i]\n",
    "            self.critic_model.set_weights(old_critic_target_weights)\n",
    "            \n",
    "            for i in range(len(actor_weights)):\n",
    "                old_actor_target_weights[i] = self.tau*old_actor_target_weights[i] + (1-self.tau)*actor_weights[i]\n",
    "            self.actor_model.set_weights(old_actor_target_weights)\n",
    "                \n",
    "                \n",
    "            #target_weights = self.tau*critic_weights + (1-self.tau)*target_weights\n",
    "\n",
    "\n"
   ]
  },
  {
   "cell_type": "code",
   "execution_count": 29,
   "metadata": {},
   "outputs": [],
   "source": [
    "env = suite.load(domain_name=\"swimmer\", task_name=\"swimmer6\")\n",
    "action_spec = env.action_spec()\n",
    "\n",
    "agent = Agent(action_spec)"
   ]
  },
  {
   "cell_type": "code",
   "execution_count": null,
   "metadata": {},
   "outputs": [],
   "source": [
    "# https://www.tensorflow.org/guide/effective_tf2?hl=ru\n",
    "# https://lilianweng.github.io/lil-log/2018/04/08/policy-gradient-algorithms.html#d4pg"
   ]
  },
  {
   "cell_type": "code",
   "execution_count": 2,
   "metadata": {},
   "outputs": [
    {
     "name": "stderr",
     "output_type": "stream",
     "text": [
      "Using TensorFlow backend.\n"
     ]
    },
    {
     "name": "stdout",
     "output_type": "stream",
     "text": [
      "Evaluate in 3 iterations\n"
     ]
    }
   ],
   "source": [
    "def train_model(env, n_max_steps, batch_size, discount_rate):\n",
    "    iter_num_to_check_stop = 100\n",
    "    scores = np.array([])\n",
    "    action_spec = env.action_spec()\n",
    "    agent = Agent(action_spec)\n",
    "\n",
    "    for iteration in range(n_iterations):\n",
    "        if iteration == iter_num_to_check_stop:\n",
    "            last_negative_reward_index = np.argwhere(scores<0)[-1]\n",
    "            positive_tail_length = iteration - last_negative_reward_index\n",
    "            if positive_tail_length >= 100:\n",
    "                break\n",
    "            else:\n",
    "                iter_num_to_check_stop = last_negative_reward_index + 100\n",
    "\n",
    "        obs = env.reset()  \n",
    "        obs = convert_observation(obs)\n",
    "\n",
    "        game_score = 0\n",
    "        for step in range(n_max_steps):       \n",
    "            # get action:\n",
    "            action = agent.sample_action(obs)\n",
    "            # make action:\n",
    "            new_obs, reward, done, info = env.step(action[0])\n",
    "            new_obs = convert_obs(new_obs)\n",
    "            \n",
    "            # update history:\n",
    "            game_score += reward   \n",
    "            agent.store_info(obs, new_obs, action, reward, done)\n",
    "            obs = new_obs\n",
    "            # experience replay:\n",
    "            agent.experience_replay()\n",
    "            if done:\n",
    "                break\n",
    "\n",
    "        scores = np.append(scores, game_score)\n",
    "        if (iteration+1) % 100 == 0:\n",
    "            print('Avg score for the last {} games: {}'.format(100, np.mean(scores[-100:])))\n",
    "    print(\"Evaluate in {} iterations\".format(iteration+1))\n",
    "    return scores, agent\n"
   ]
  },
  {
   "cell_type": "code",
   "execution_count": null,
   "metadata": {},
   "outputs": [],
   "source": [
    "n_iterations = 200\n",
    "\n",
    "env = gym.make('Pendulum-v0')\n",
    "n_max_steps = 3000\n",
    "\n",
    "scores, agent = train_model(env, n_max_steps, batch_size, discount_rate)"
   ]
  },
  {
   "cell_type": "code",
   "execution_count": 3,
   "metadata": {},
   "outputs": [
    {
     "data": {
      "image/png": "[encoded data removed]",
      "text/plain": [
       "<Figure size 1080x504 with 1 Axes>"
      ]
     },
     "metadata": {
      "needs_background": "light"
     },
     "output_type": "display_data"
    },
    {
     "name": "stdout",
     "output_type": "stream",
     "text": [
      "Average reward on test 100 games:  22.25\n"
     ]
    },
    {
     "data": {
      "image/png": "[encoded data removed]",
      "text/plain": [
       "<Figure size 720x504 with 1 Axes>"
      ]
     },
     "metadata": {
      "needs_background": "light"
     },
     "output_type": "display_data"
    }
   ],
   "source": [
    "plt.figure(figsize=(15,7))\n",
    "plt.grid()\n",
    "x=list(range(len(scores)))\n",
    "plt.plot(x, scores)\n",
    "\n",
    "plt.title(\"Learning curves: score per iteration\")\n",
    "plt.ylabel(\"Reward\")\n",
    "plt.xlabel(\"Iteration number\")\n",
    "plt.savefig(\"learning_curves.png\")\n",
    "plt.show()\n",
    "\n",
    "test_games = 100\n",
    "\n",
    "test_scores = []\n",
    "for game_index in range(test_games):\n",
    "    score = 0\n",
    "    obs = env.reset()\n",
    "    for step in range(n_max_steps): \n",
    "        obs = convert_observation(obs)\n",
    "        action = agent.sample_action(obs)\n",
    "        obs, reward, done, info = env.step(action)\n",
    "        score += reward\n",
    "        if done:\n",
    "            break\n",
    "    test_scores.append(score)\n",
    "\n",
    "print(\"Average reward on test 100 games: \", np.mean(test_scores))\n",
    "\n",
    "fig, ax = plt.subplots(figsize=(10,7))\n",
    "ax.set_title('Experience replay model reward for test 100 games')\n",
    "ax.boxplot(test_scores,   \n",
    "          showfliers=True)\n",
    "\n",
    "ax.set_ylabel(\"Reward\")\n",
    "plt.savefig(\"rewards.png\")\n",
    "plt.show()\n",
    "\n",
    "agent.model.save('my_model.h5')"
   ]
  },
  {
   "cell_type": "code",
   "execution_count": null,
   "metadata": {},
   "outputs": [],
   "source": [
    "plt.figure(figsize=(15,7))\n",
    "plt.grid()\n",
    "x=list(range(len(scores)))\n",
    "plt.plot(x, scores)\n",
    "\n",
    "plt.title(\"Learning curves: score per iteration\")\n",
    "plt.ylabel(\"Reward\")\n",
    "plt.xlabel(\"Iteration number\")\n",
    "plt.savefig(\"learning_curves.png\")\n",
    "plt.show()\n",
    "\n",
    "test_games = 100\n",
    "\n",
    "test_scores = []\n",
    "for game_index in range(test_games):\n",
    "    score = 0\n",
    "    obs = env.reset()\n",
    "    for step in range(n_max_steps): \n",
    "        obs = convert_observation(obs)\n",
    "        action = agent.sample_action(obs)\n",
    "        obs, reward, done, info = env.step(action)\n",
    "        score += reward\n",
    "        if done:\n",
    "            break\n",
    "    test_scores.append(score)\n",
    "\n",
    "print(\"Average reward on test 100 games: \", np.mean(test_scores))\n",
    "\n",
    "fig, ax = plt.subplots(figsize=(10,7))\n",
    "ax.set_title('Experience replay model reward for test 100 games')\n",
    "ax.boxplot(test_scores,   \n",
    "          showfliers=True)\n",
    "\n",
    "ax.set_ylabel(\"Reward\")\n",
    "plt.savefig(\"rewards.png\")\n",
    "plt.show()\n",
    "\n",
    "agent.model.save('my_model.h5')"
   ]
  },
  {
   "cell_type": "code",
   "execution_count": null,
   "metadata": {},
   "outputs": [],
   "source": []
  },
  {
   "cell_type": "code",
   "execution_count": 1,
   "metadata": {},
   "outputs": [],
   "source": [
    "import tensorflow as tf"
   ]
  },
  {
   "cell_type": "code",
   "execution_count": 13,
   "metadata": {},
   "outputs": [],
   "source": [
    "from dm_control import suite\n",
    "from dm_control import viewer\n",
    "import numpy as np\n",
    "\n",
    "env = suite.load(domain_name=\"swimmer\", task_name=\"swimmer6\")\n",
    "action_spec = env.action_spec()\n",
    "\n",
    "# Define a uniform random policy.\n",
    "def random_policy(time_step):\n",
    "    #del time_step  # Unused.    \n",
    "    return np.random.uniform(low=action_spec.minimum,\n",
    "                           high=action_spec.maximum,\n",
    "                           size=action_spec.shape)\n",
    "\n",
    "# Launch the viewer application.\n",
    "viewer.launch(env, policy=random_policy)"
   ]
  },
  {
   "cell_type": "code",
   "execution_count": null,
   "metadata": {},
   "outputs": [],
   "source": []
  }
 ],
 "metadata": {
  "kernelspec": {
   "display_name": "Python 3",
   "language": "python",
   "name": "python3"
  },
  "language_info": {
   "codemirror_mode": {
    "name": "ipython",
    "version": 3
   },
   "file_extension": ".py",
   "mimetype": "text/x-python",
   "name": "python",
   "nbconvert_exporter": "python",
   "pygments_lexer": "ipython3",
   "version": "3.7.7"
  }
 },
 "nbformat": 4,
 "nbformat_minor": 2
}
