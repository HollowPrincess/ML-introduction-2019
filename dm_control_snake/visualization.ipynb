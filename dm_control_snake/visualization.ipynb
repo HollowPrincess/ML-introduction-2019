{
 "cells": [
  {
   "cell_type": "code",
   "execution_count": 1,
   "metadata": {},
   "outputs": [],
   "source": [
    "from dm_control import suite\n",
    "from dm_control import viewer\n",
    "import numpy as np\n",
    "import tensorflow as tf\n",
    "\n",
    "def convert_observation(obs):\n",
    "    list1 = [i.tolist() for i in list(obs.values())]\n",
    "    list2 = np.array([])\n",
    "    for sublist in list1:\n",
    "        list2 = np.append(list2, sublist)\n",
    "    return list2.reshape([1,25])\n",
    "\n",
    "# Define a policy.\n",
    "def agent_policy(time_step):\n",
    "    #global target_actor_model\n",
    "    obs = convert_observation(time_step.observation)\n",
    "    action = target_actor_model.predict(obs)\n",
    "    return action\n",
    "\n",
    "target_actor_model = tf.keras.models.load_model('target_actor_model_snake.h5')"
   ]
  },
  {
   "cell_type": "code",
   "execution_count": 7,
   "metadata": {},
   "outputs": [],
   "source": [
    "env = suite.load(domain_name=\"swimmer\", task_name=\"swimmer6\")\n",
    "\n",
    "# Launch the viewer application.\n",
    "viewer.launch(env, policy=agent_policy)"
   ]
  },
  {
   "cell_type": "code",
   "execution_count": null,
   "metadata": {},
   "outputs": [],
   "source": []
  }
 ],
 "metadata": {
  "kernelspec": {
   "display_name": "Python 3",
   "language": "python",
   "name": "python3"
  },
  "language_info": {
   "codemirror_mode": {
    "name": "ipython",
    "version": 3
   },
   "file_extension": ".py",
   "mimetype": "text/x-python",
   "name": "python",
   "nbconvert_exporter": "python",
   "pygments_lexer": "ipython3",
   "version": "3.7.7"
  }
 },
 "nbformat": 4,
 "nbformat_minor": 4
}
